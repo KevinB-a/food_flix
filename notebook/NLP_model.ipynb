{
 "metadata": {
  "language_info": {
   "codemirror_mode": {
    "name": "ipython",
    "version": 3
   },
   "file_extension": ".py",
   "mimetype": "text/x-python",
   "name": "python",
   "nbconvert_exporter": "python",
   "pygments_lexer": "ipython3",
   "version": "3.8.5"
  },
  "orig_nbformat": 2,
  "kernelspec": {
   "name": "python385jvsc74a57bd05b9c502b618e97131917a2f1409b4700bb639cdf99ce16cd88a0e27a90524386",
   "display_name": "Python 3.8.5 64-bit ('base': conda)"
  }
 },
 "nbformat": 4,
 "nbformat_minor": 2,
 "cells": [
  {
   "cell_type": "code",
   "execution_count": 11,
   "metadata": {},
   "outputs": [],
   "source": [
    "# Importing the libraries\n",
    "import sys \n",
    "sys.path.insert(0,\"/home/apprenant/simplon_project/food_flix\")\n",
    "from src.functions import *\n",
    "import pandas as pd\n",
    "from IPython.display import Image, HTML\n",
    "import matplotlib.pyplot as plt\n",
    "from sklearn.feature_extraction.text import TfidfVectorizer\n",
    "from sklearn.metrics.pairwise import linear_kernel\n",
    "#from wordcloud import WordCloud , STOPWORDS"
   ]
  },
  {
   "cell_type": "code",
   "execution_count": 12,
   "metadata": {},
   "outputs": [],
   "source": [
    "df = pd.read_csv(\"/home/apprenant/simplon_project/food_flix/data/df_clean.csv\" , usecols = ['id','product_name','ingredients_text','countries', 'nutrition_grade_fr'])"
   ]
  },
  {
   "cell_type": "code",
   "execution_count": 13,
   "metadata": {},
   "outputs": [
    {
     "output_type": "execute_result",
     "data": {
      "text/plain": [
       "           id                                       product_name countries  \\\n",
       "0         189      Gotta-have grape, seriously strawberry flavor    France   \n",
       "1         193  Preparation mug cake chocolat-caramel au beurr...    France   \n",
       "2         248              Marmite Original Pate A Tartiner 125G    France   \n",
       "3         251                                  Madeleines nature    France   \n",
       "4         288                                      Cakes Raisins    France   \n",
       "...       ...                                                ...       ...   \n",
       "25435  355912      Peanut & Popcorn With Dark Chocolate 12 x 45G    France   \n",
       "25436  355922                     Fisherman's Friend Miel-Citron    France   \n",
       "25437  355971                La pratique du vocabulaire allemand    France   \n",
       "25438  355981  Biscuits aux céréales, aux pépites de chocolat...    France   \n",
       "25439  356005                Tartines craquantes bio au sarrasin    France   \n",
       "\n",
       "                                        ingredients_text nutrition_grade_fr  \n",
       "0                                                    NaN                  d  \n",
       "1      farine de blé (gluten), sucre de canne, pépite...                  e  \n",
       "2      40 Ivlarmite original - extrait de levu\\e ,édi...                  c  \n",
       "3      Farine de _blé_, huile de colza, sucre, _oeufs...                  d  \n",
       "4      Farine de _blé_, _œufs_ frais, huile de colza,...                  d  \n",
       "...                                                  ...                ...  \n",
       "25435  Eat Natural — Barres aux fruits secs avec caca...                  d  \n",
       "25436  Édulcorants : sorbitols, sucralose, acésulfame...                  b  \n",
       "25437  I • La grammajre françatse La communication or...                  e  \n",
       "25438  céréales* 49% (farine de blé*, flocons b d'avo...                  d  \n",
       "25439                                                NaN                  a  \n",
       "\n",
       "[25440 rows x 5 columns]"
      ],
      "text/html": "<div>\n<style scoped>\n    .dataframe tbody tr th:only-of-type {\n        vertical-align: middle;\n    }\n\n    .dataframe tbody tr th {\n        vertical-align: top;\n    }\n\n    .dataframe thead th {\n        text-align: right;\n    }\n</style>\n<table border=\"1\" class=\"dataframe\">\n  <thead>\n    <tr style=\"text-align: right;\">\n      <th></th>\n      <th>id</th>\n      <th>product_name</th>\n      <th>countries</th>\n      <th>ingredients_text</th>\n      <th>nutrition_grade_fr</th>\n    </tr>\n  </thead>\n  <tbody>\n    <tr>\n      <th>0</th>\n      <td>189</td>\n      <td>Gotta-have grape, seriously strawberry flavor</td>\n      <td>France</td>\n      <td>NaN</td>\n      <td>d</td>\n    </tr>\n    <tr>\n      <th>1</th>\n      <td>193</td>\n      <td>Preparation mug cake chocolat-caramel au beurr...</td>\n      <td>France</td>\n      <td>farine de blé (gluten), sucre de canne, pépite...</td>\n      <td>e</td>\n    </tr>\n    <tr>\n      <th>2</th>\n      <td>248</td>\n      <td>Marmite Original Pate A Tartiner 125G</td>\n      <td>France</td>\n      <td>40 Ivlarmite original - extrait de levu\\e ,édi...</td>\n      <td>c</td>\n    </tr>\n    <tr>\n      <th>3</th>\n      <td>251</td>\n      <td>Madeleines nature</td>\n      <td>France</td>\n      <td>Farine de _blé_, huile de colza, sucre, _oeufs...</td>\n      <td>d</td>\n    </tr>\n    <tr>\n      <th>4</th>\n      <td>288</td>\n      <td>Cakes Raisins</td>\n      <td>France</td>\n      <td>Farine de _blé_, _œufs_ frais, huile de colza,...</td>\n      <td>d</td>\n    </tr>\n    <tr>\n      <th>...</th>\n      <td>...</td>\n      <td>...</td>\n      <td>...</td>\n      <td>...</td>\n      <td>...</td>\n    </tr>\n    <tr>\n      <th>25435</th>\n      <td>355912</td>\n      <td>Peanut &amp; Popcorn With Dark Chocolate 12 x 45G</td>\n      <td>France</td>\n      <td>Eat Natural — Barres aux fruits secs avec caca...</td>\n      <td>d</td>\n    </tr>\n    <tr>\n      <th>25436</th>\n      <td>355922</td>\n      <td>Fisherman's Friend Miel-Citron</td>\n      <td>France</td>\n      <td>Édulcorants : sorbitols, sucralose, acésulfame...</td>\n      <td>b</td>\n    </tr>\n    <tr>\n      <th>25437</th>\n      <td>355971</td>\n      <td>La pratique du vocabulaire allemand</td>\n      <td>France</td>\n      <td>I • La grammajre françatse La communication or...</td>\n      <td>e</td>\n    </tr>\n    <tr>\n      <th>25438</th>\n      <td>355981</td>\n      <td>Biscuits aux céréales, aux pépites de chocolat...</td>\n      <td>France</td>\n      <td>céréales* 49% (farine de blé*, flocons b d'avo...</td>\n      <td>d</td>\n    </tr>\n    <tr>\n      <th>25439</th>\n      <td>356005</td>\n      <td>Tartines craquantes bio au sarrasin</td>\n      <td>France</td>\n      <td>NaN</td>\n      <td>a</td>\n    </tr>\n  </tbody>\n</table>\n<p>25440 rows × 5 columns</p>\n</div>"
     },
     "metadata": {},
     "execution_count": 13
    }
   ],
   "source": [
    "df"
   ]
  },
  {
   "cell_type": "code",
   "execution_count": 14,
   "metadata": {},
   "outputs": [],
   "source": [
    "df['product_name'] = df['product_name'].astype('str')\n",
    "#df['countries'] = df['countries'].astype('str')\n",
    "df['ingredients_text'] = df['ingredients_text'].astype('str')\n",
    "#df['nutrition_grade_fr'] = df['nutrition_grade_fr'].astype('str')"
   ]
  },
  {
   "cell_type": "code",
   "execution_count": 15,
   "metadata": {},
   "outputs": [],
   "source": [
    "df['content'] = df[['product_name', 'ingredients_text']].astype(str).apply(lambda x: ' // '.join(x), axis = 1)"
   ]
  },
  {
   "cell_type": "code",
   "execution_count": 16,
   "metadata": {},
   "outputs": [],
   "source": [
    "# Fillna\n",
    "df['content'].fillna('Null', inplace = True)"
   ]
  },
  {
   "cell_type": "code",
   "execution_count": 17,
   "metadata": {},
   "outputs": [],
   "source": [
    "tf = TfidfVectorizer(analyzer = 'word', ngram_range = (1, 2), min_df = 0, stop_words = 'english')\n",
    "tfidf_matrix = tf.fit_transform(df['content'])"
   ]
  },
  {
   "cell_type": "code",
   "execution_count": 33,
   "metadata": {},
   "outputs": [],
   "source": [
    "input_matrix = tf.transform(['Chocolat'])"
   ]
  },
  {
   "cell_type": "code",
   "execution_count": 34,
   "metadata": {},
   "outputs": [],
   "source": [
    "cosine_similarities = linear_kernel(input_matrix, tfidf_matrix)"
   ]
  },
  {
   "cell_type": "code",
   "execution_count": 35,
   "metadata": {},
   "outputs": [],
   "source": [
    "results = {}\n",
    "similar_indices = cosine_similarities[0].argsort()[:-10:-1]\n",
    "similar_items = [(cosine_similarities[0][i], df['id'][i], df['product_name'][i]) for i in similar_indices]"
   ]
  },
  {
   "cell_type": "code",
   "execution_count": 36,
   "metadata": {},
   "outputs": [
    {
     "output_type": "execute_result",
     "data": {
      "text/plain": [
       "[(0.32781755679659114, 256190, 'Chocolat '),\n",
       " (0.2941836277210738, 204566, 'Brownie chocolat et pépites de chocolat'),\n",
       " (0.2624298859515985, 226633, 'Muffins goût Chocolat aux pépites de chocolat'),\n",
       " (0.2599715055905391, 249739, 'Chocolat noir'),\n",
       " (0.2599715055905391, 226479, 'Chocolat noir'),\n",
       " (0.25108989844619517, 208715, 'Brownie chocolat pépites de chocolat'),\n",
       " (0.24470132439582146, 263471, 'Chocolat au lait'),\n",
       " (0.24398847481049407,\n",
       "  66672,\n",
       "  'Grains De Chocolat à Cuisson Chipits (chocolat Au Lait)'),\n",
       " (0.23790915055916556, 271325, 'Dessert Chocolat Caramel Pepites De Chocolat')]"
      ]
     },
     "metadata": {},
     "execution_count": 36
    }
   ],
   "source": [
    "similar_items"
   ]
  },
  {
   "cell_type": "code",
   "execution_count": null,
   "metadata": {},
   "outputs": [],
   "source": []
  }
 ]
}